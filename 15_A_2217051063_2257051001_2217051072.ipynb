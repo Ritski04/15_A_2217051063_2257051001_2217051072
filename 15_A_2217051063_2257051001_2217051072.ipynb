#Projek UTP SDA

import os
import random
import sys
import time

salah = int(0)

#tuple
kar = ('Aweng','Midun','Kiky','Dosen','Amal','Naya')
nama =('1. Akmal Adnan Djayasinga (2217051063)','2. Imran Sukron Hamid (2257051001)','3. Muhammad Ritski Wira Akbar (2217051072)')

#Bagian Akmal
#percabangan pertama (masa depan aweng bergantung dengan ini)
def pilihan1():
        print ("\nAweng dihadapkan dengan dua pilihan...\n1. Tidak mandi tapi tidak telat ngampus\n2. Mandi tapi telat ngampus...")
        cabang = (input("Pilihan mu (1/2) : "))
        if cabang == '1':
            pilihan1_benar()
        elif cabang == '2':
            pilihan1_salah()
        else:
            pilihan1()

#Bagian Akmal
def pilihan1_benar():
            os.system('cls')
            input (f"{kar[0]} : Ah gas aja lah langsung ngampus")
            os.system('cls')
            input ("Ia pun langsung salin baju dan terburu-buru menuju kampus...")
            input ("Setibanya di kampus, ia berlari menuju kelas...")
            os.system('cls')
            input (f"{kar[0]} : Untung aja belum ada dosen, fiuhh...")
            os.system('cls')
            input ("Aweng pun belajar di kampus sampai sore karena jam nya penuh di hari itu...\n")
            input (f"{kar[0]} : Kelar juga cok, aduh capeknya...")
            os.system('cls')
            input( "Setelah selesai kuliah aweng pun bertemu dengan midun dan kiki\n")
            input (f"{kar[0]} : gw main ke kosan lu ya mid.")
            input (f"{kar[1]} : iya eng")
            input(f"{kar[0]} : ok")
            os.system('cls')
            input("Setelah sampai di kosan midun aweng pun menceritakan sesuatu kepada midun\n")
            input(f"{kar[0]} : mid gw kemaren kenalan sama cewek di game, dia orang Kalimantan")
            input(f"{kar[1]} : wihh keren juga lu eng bisa kenalan sama orang jauh, btw udh mintak instagram nya belum")
            input(f"{kar[0]} : udah dong")
            input(f"{kar[2]} : udah punya cowok belum dia wkwkwk")
            input(f"{kar[0]} : belum lahh, kayaknya")
            input(f"{kar[1]} : mending sekarang lu dm instagram nya dulu aja , coba tanya ada yang marah gak kalo lu nge dm dia")
            input(f"{kar[0]} : ok, nanti gw dm")
            os.system('cls')
            input("Aweng pun pulang ke kosannya\n")
            input(f"{kar[0]} : huhh, capek bener kulaih hari ini, gw mau ngapainya....")
            pilihan2()

#Bagian Akmal
def pilihan1_salah():
            os.system('cls')
            input (f"{kar[0]} : Ah mandi jebar-jebur dulu ajalah\n")
            os.system('cls')
            input ("Aweng pun bergegas mandi...\nSetelah mandi, ia pun salin baju dan langsung bergegas ngampus...\nSetibanya di kampus, ia pun berlari ke kelas...\n")
            os.system('cls')
            input ("Ia pun mengetuk pintu kelas...\n")
            input (f"{kar[0]} : Permisi pak, saya boleh izin masuk pak?")
            input (f"{kar[3]} : KELUAR!!!")
            input (f"{kar[0]} : Baik pak...")
            input ("Pilihan mu kurang tepat cuy...")
            salah + 1
            print(salah)
            ulangi = '1'
            cobalagi(ulangi)

#Bagian Imran
#percabangan kedua (masa depan aweng bergantung dengan ini)
def pilihan2():
    os.system('cls')
    print("\nAweng dihadapkan dengan dua pilihan...\n1. Dm naya besok\n2. Dm naya sekarang")

    cabang =(input("Pilihan mu (1/2) :  "))
    if cabang=='1': 
        pilihan2_salah()
    elif cabang=='2':
        pilihan2_benar()
    else:
        pilihan2()

#Bagian Imran
def pilihan2_salah():
        os.system('cls')
        print("Saat aweng dm naya keesokan harinya, ternyata naya sudah punya pacar\n")
        input ("Pilihan mu kurang tepat cuy...")
        ulangi = '2'
        cobalagi(ulangi)

#Bagian Imran
def pilihan2_benar():
        os.system('cls')
        input(f"{kar[0]} : halo")
        input(f"{kar[5]} : halo juga")
        input(f"{kar[0]} : ini aweng yang kemaren main mobile legends bareng")
        input(f"{kar[5]} : ohh aweng ")
        input(f"{kar[0]} : aku mau nanya nay?")
        input(f"{kar[5]} : nanya apa eng?")
        input(f"{kar[0]} : jadi giniii, hemm gimana ya ngomongnya")
        input(f"{kar[5]} : ngomong aja eng")
        input(f"{kar[0]} : aku mau nanya , kalo aku dm kamu ada yang marah gak?")
        input(f"{kar[5]} : gak ada kok tenang aja")
        input(f"{kar[0]} : oke nay, btw kamu sekarang lagi apa.")
        input(f"{kar[5]} : lagi gabut ini")
        input(f"{kar[0]} : mabar mobile legend aja yok, aku juga lagi gabut ini.")
        os.system('cls')
        input("Mereka pun mabar hingga larut malam\n")
        input(f"{kar[0]} : duhh gak terasa ya udh malam aja.")
        input(f"{kar[5]} : iya eng, aku udahan dulu ya soalnya besok mau sekolah.")
        pilihan3()

#Bagian Imran
#percabangan ketiga (masa depan aweng bergantung dengan ini)
def pilihan3():
    os.system('cls')
    print("\nAweng dihadapkan dengan dua pilihan...\n1. Udahan mabarnya\n2. Lanjut satu game lagi\n")
    cabang=(input("Pilihan mu (1/2)... "))
    if cabang=='1':
        pilihan3_benar()    
    elif cabang=='2':
        pilihan3_salah()
    else:
        pilihan3()

#Bagian Imran
def pilihan3_salah():
    os.system('cls')
    input(f"{kar[0]}  : 1 game lagi aja yok nay tanggung")
    input(f"{kar[5]}  : kok kamu maksa sih")
    os.system('cls')
    input("Naya pun nge block ig aweng")
    ulangi = '3'
    cobalagi(ulangi)

#Bagian Ritski
def pilihan3_benar():
    os.system('cls')
    input(f"{kar[0]} : iya nay, aku juga mau udahan, besok aku mau kuliah\n")
    input('Mereka berdua udahan dan tidur...')
    os.system('cls')
    input('Keesokan harinya alaram berbunyi pukul 07.00')
    os.system('cls')
    input(f"{kar[0]} : duh kesiangan lagi ini, garagara semalam mabar sama naya sampai larut malam")
    os.system('cls')
    input("Aweng pun bangun, cuci muka, ganti baju dan langsung berangkat ke kampus sesampainya dikelas aweng bertemu dengan midun, kiki,dan amal")
    os.system('cls')
    input(f"{kar[1]} : gimana eng kemaren")
    input(f"{kar[0]} : aman mid")
    input(f"{kar[2]} : widih, gass eng")
    input(f"{kar[4]} : ada apa ni?")
    input(f"{kar[0]} : gini mal, kemaren gw kenalan sama cewe, dia orang Kalimantan")
    input(f"{kar[4]} : keren lu eng, semoga bisa jadian walaupun LDR")
    input(f"{kar[0]} : makasih mal")
    os.system('cls')
    input("Kuliahpun selesai\n")
    input(f"{kar[0]} : mid gw main ke kosan lu lagi ya")
    input(f"{kar[1]} : iya eng")
    input(f"{kar[4]} : gw juga ikut ke kos lu ya mid")
    input(f"{kar[1]} : iya mal")
    os.system('cls')
    input("Sesampainya di kosan midun aweng pun nge dm naya lagi\n")
    input(f"{kar[0]} : hai naya, lagi apa?")
    input(f"{kar[5]} : masih di sekolah ini, ada apa ya eng?")
    input(f"{kar[0]} : kamu masih sekolah ya, kelas berapa btw")
    input(f"{kar[5]} : kelas 12 eng")
    input(f"{kar[0]} : wahh udh mau lulus ini")
    input(f"{kar[5]} : iya, tapi aku masih bingung mau kuliah dimana")
    input(f"{kar[0]} : kuliah di lampung saja nay sama gw wkwkw")
    input(f"{kar[5]} : hemmmmm......, aku kemaren daftar SNBP tinggal tunggu pengumunannya besok")
    input(f"{kar[0]} : semoga keterima di ya nay")
    input(f"{kar[5]} : makasih ya eng")
    input(f"{kar[2]} : wih, makin dekata saja ini kelihatannya")
    input(f"{kar[1]} : iya nihh, cieeeee aweng")
    input(f"{kar[2]} : hahahah")
    input(f"{kar[1]} : nama instagram nya apa eng")
    input(f"{kar[0]} : namanya, @naya")
    input(f"{kar[1]} : hemmmm")
    os.system('cls')
    input("Midun pun mengecek instagram nya naya dan melihat foto sebuah foto naya bersama laki-laki lain\n")
    input(f"{kar[1]} : eng coba lu liat ig nya naya ada foto dia sama cowok")
    input(f"{kar[0]} : Hah?, serius lu mid?")
    input(f"{kar[1]} : cek aja")
    pilihan4()

#Bagian Ritski
#percabangan keempat (masa depan aweng bergantung dengan ini)
def pilihan4():
    os.system('cls')
    print("\nAweng dihadapkan dengan dua pilihan...\n1. menyerah dan pasrah\n2. positif thinking")
    cabang=(input("Pilihan mu (1/2)... "))
    if cabang=='1':
        pilihan4_salah()
    elif cabang=='2':
         pilihan4_benar()
    else:
         pilihan4()

#Bagian Ritski
def pilihan4_salah():
    os.system('cls')
    print("aweng overthinking lalu galau brutal")
    ulangi = '4'
    cobalagi(ulangi)

#Bagian Ritski
def pilihan4_benar():
    os.system('cls')
    input("Lanjut dm an sampai besok")
    os.system('cls')
    input("Keesokan harinya...")
    os.system('cls')
    input("Pada sore hari menjelang magrib aweng pun mulai dm serius dengan naya\n")
    input(f"{kar[0]} : nay , aku mau nomong sesuatu sama kamu")
    input(f"{kar[5]} : mau ngomong apa eng")
    pilihan5()

#Bagian Ritski
#percabangan kelima (masa depan aweng bergantung dengan ini)
def pilihan5():
    os.system('cls')
    print("\nAweng dihadapkan dengan dua pilihan...\n1.gk jadi\n2. jujur sekarang")
    cabang=(input("pilihan mu (1/2)... "))
    if cabang=='1':
        pilihan5_salah()
    elif cabang=='2':
        pilihan5_benar()
    else:
        pilihan5()

#Bagian Ritski
def pilihan5_salah():
        os.system('cls')
        input(f"{kar[0]} : gk jadi deh nay")
        input(f"{kar[5]} : hemmm, yaudah")
        os.system('cls')
        input("Keesokan harinya aweng pun mengecek instagram naya dan melihat naya sudah punya pacar\n")
        input("Aweng pun galau brutal")
        ulangi = '5'
        cobalagi(ulangi)

#Bagian Imran
def pilihan5_benar():
        os.system('cls')
        input("Aweng pun meminta saran kepada kiki untuk nembak naya")
        os.system('cls')
        input(f"{kar[0]} : gimana ki saran lu, gw mau nembak naya sekarang")
        input(f"{kar[1]} : jangan dulu eng, kan lu baru kenalan, tunggu 1 munggu dulu baru tembak")
        input(f"{kar[2]} : kalo lu yakin, sekarang saja eng")
        input(f"{kar[0]} : oke lah, bismilah")
        os.system('cls')
        input("Aweng pun kembali nge dm naya\n")
        input(f"{kar[0]} : nay , kalo boleh jujur aku sebenarnya aku suka sama kamu, kamu mau gak jadi pacar aku")
        os.system('cls')
        input("Selagi menunggu jawaban dari naya aweng pun pergi ke masjid untuk sholat maghrib")
        os.system('cls')
        input("Setelah selesai sholat, aweng belum menerima jawaban dari naya")
        os.system('cls')
        input("Pada dam 20:00")
        os.system('cls')
        input("Naya pun memberikan jawabannya")
        os.system('cls')
        def part2(s):
            for c in s :
                sys.stdout.write(c)
                sys.stdout.flush()
                time.sleep(random.random() * 0.1)

        part2('LANJUT PART 2...')

#Bagian Akmal
#mengulang kembali jika pilihan salah   
def cobalagi(ulangi):
    os.system('cls')
    ulang = (input("1. Coba lagi\n2. Keluar Game\nPilihan Mu... "))
    if ulang == '1' and ulangi == '1':
            mulai()
    elif ulang == '1' and ulangi == '2':
            pilihan1_benar()
    elif ulang == '1' and ulangi == '3':
            pilihan2_benar()
    elif ulang == '1' and ulangi == '4':
            pilihan3_benar()
    elif ulang == '1' and ulangi == '5':
            pilihan4_benar()
    elif ulang == '2':
            exit()
    else:
            cobalagi()

#set dan fungsi
#Awal cerita

#Bagian Akmal
def mulai():
    os.system('cls')
    awal = {
    "Awal": "\nDi kisahkan pada abad ke-21, terdapat seorang remaja nolep dengan nama samaran Aweng. Aweng dikisahkan sebagai remaja yang polos akan percintaan dan ia berharap mendapatkan cinta yang tulus dari siapapun wanita yang akan menerima nya apa adanya...."
    }
    print(awal.get("Awal"))

    input("\nAlarm berbunyi menunjukkan pukul 08.00 pagi...")
    input ( f"{kar[0]} : WADUH!, terlambat ngampus nihh!")
    pilihan1()

#Bagian Akmal
#conditional
def ke_menu():
    ingin = (input("Ingin kembali (y/n) ? : "))
    if ingin == 'y' or ingin == 'Y':
        menu()
    elif ingin == 'n' or ingin == 'N':
        exit()
    else:
        ke_menu()

#Bagian Akmal    
#conditional
def menu():
    os.system('cls')
    pil_awal = int(input("MENU :\n1. Mulai game\n2. Game Maker\n3. Sumber\nPilihan mu... "))
    if pil_awal == 2 :
        for i in nama:
             print(i)
        ke_menu()
    elif pil_awal == 3:
        print ("Kisah ini berdasarkan True Story dari salah satu manusia di muka bumi ini")
        ke_menu()
    elif pil_awal == 1:
        mulai() 
    else:
        menu()
menu()